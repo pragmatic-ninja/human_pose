{
  "nbformat": 4,
  "nbformat_minor": 0,
  "metadata": {
    "colab": {
      "name": "Human Pose Module 1",
      "provenance": [],
      "authorship_tag": "ABX9TyMfbjT9waX53ovzdgYluNxN",
      "include_colab_link": true
    },
    "kernelspec": {
      "name": "python3",
      "display_name": "Python 3"
    }
  },
  "cells": [
    {
      "cell_type": "markdown",
      "metadata": {
        "id": "view-in-github",
        "colab_type": "text"
      },
      "source": [
        "<a href=\"https://colab.research.google.com/github/pragmatic-ninja/human_pose/blob/master/Human_Pose_Module_1.ipynb\" target=\"_parent\"><img src=\"https://colab.research.google.com/assets/colab-badge.svg\" alt=\"Open In Colab\"/></a>"
      ]
    },
    {
      "cell_type": "markdown",
      "metadata": {
        "id": "CPQvTnTIgadq",
        "colab_type": "text"
      },
      "source": [
        "# SVHN Dataset"
      ]
    },
    {
      "cell_type": "code",
      "metadata": {
        "id": "O-4CQi9EfTVI",
        "colab_type": "code",
        "colab": {
          "base_uri": "https://localhost:8080/",
          "height": 34
        },
        "outputId": "a9636ee0-885d-4b7d-d968-489d14f61c69"
      },
      "source": [
        "!ls"
      ],
      "execution_count": 1,
      "outputs": [
        {
          "output_type": "stream",
          "text": [
            "sample_data\n"
          ],
          "name": "stdout"
        }
      ]
    }
  ]
}